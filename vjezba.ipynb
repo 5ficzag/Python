import random
import string

znakovi = string.ascii_letters + string.digits + string.punctuation
lozinka = "".join(random.choice(znakovi) for i in range(12))
print(lozinka)
